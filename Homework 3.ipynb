{
 "cells": [
  {
   "cell_type": "markdown",
   "id": "3aa6a728",
   "metadata": {},
   "source": [
    "# Homework 3\n",
    "Natalia Ramirez Jimenez"
   ]
  },
  {
   "cell_type": "code",
   "execution_count": 40,
   "id": "6fd85d50",
   "metadata": {},
   "outputs": [],
   "source": [
    "## Standard Libraries\n",
    "import pandas as pd\n",
    "import numpy as np\n",
    "import matplotlib.pyplot as plt\n",
    "import sklearn\n",
    "\n",
    "# turn off future warnings\n",
    "import warnings\n",
    "warnings.simplefilter(action='ignore', category=FutureWarning)  "
   ]
  },
  {
   "cell_type": "markdown",
   "id": "a16b04b4",
   "metadata": {},
   "source": [
    "## Question 1"
   ]
  },
  {
   "cell_type": "code",
   "execution_count": 41,
   "id": "43043f77",
   "metadata": {},
   "outputs": [
    {
     "data": {
      "text/html": [
       "<div>\n",
       "<style scoped>\n",
       "    .dataframe tbody tr th:only-of-type {\n",
       "        vertical-align: middle;\n",
       "    }\n",
       "\n",
       "    .dataframe tbody tr th {\n",
       "        vertical-align: top;\n",
       "    }\n",
       "\n",
       "    .dataframe thead th {\n",
       "        text-align: right;\n",
       "    }\n",
       "</style>\n",
       "<table border=\"1\" class=\"dataframe\">\n",
       "  <thead>\n",
       "    <tr style=\"text-align: right;\">\n",
       "      <th></th>\n",
       "      <th>Label</th>\n",
       "      <th>Message</th>\n",
       "    </tr>\n",
       "  </thead>\n",
       "  <tbody>\n",
       "    <tr>\n",
       "      <th>0</th>\n",
       "      <td>ham</td>\n",
       "      <td>Go until jurong point, crazy.. Available only ...</td>\n",
       "    </tr>\n",
       "    <tr>\n",
       "      <th>1</th>\n",
       "      <td>ham</td>\n",
       "      <td>Ok lar... Joking wif u oni...</td>\n",
       "    </tr>\n",
       "    <tr>\n",
       "      <th>2</th>\n",
       "      <td>spam</td>\n",
       "      <td>Free entry in 2 a wkly comp to win FA Cup fina...</td>\n",
       "    </tr>\n",
       "    <tr>\n",
       "      <th>3</th>\n",
       "      <td>ham</td>\n",
       "      <td>U dun say so early hor... U c already then say...</td>\n",
       "    </tr>\n",
       "    <tr>\n",
       "      <th>4</th>\n",
       "      <td>ham</td>\n",
       "      <td>Nah I don't think he goes to usf, he lives aro...</td>\n",
       "    </tr>\n",
       "  </tbody>\n",
       "</table>\n",
       "</div>"
      ],
      "text/plain": [
       "  Label                                            Message\n",
       "0   ham  Go until jurong point, crazy.. Available only ...\n",
       "1   ham                      Ok lar... Joking wif u oni...\n",
       "2  spam  Free entry in 2 a wkly comp to win FA Cup fina...\n",
       "3   ham  U dun say so early hor... U c already then say...\n",
       "4   ham  Nah I don't think he goes to usf, he lives aro..."
      ]
     },
     "execution_count": 41,
     "metadata": {},
     "output_type": "execute_result"
    }
   ],
   "source": [
    "# Reading data\n",
    "sms = pd.read_csv(\"https://remiller1450.github.io/data/sms_spam.txt\", sep='\\t', names=['Label','Message'])\n",
    "sms.head(5)"
   ]
  },
  {
   "cell_type": "code",
   "execution_count": 42,
   "id": "f69b51fe",
   "metadata": {},
   "outputs": [
    {
     "data": {
      "text/plain": [
       "array([\"FreeMsg: Hey - I'm Buffy. 25 and love to satisfy men. Home alone feeling randy. Reply 2 C my PIX! QlynnBV Help08700621170150p a msg Send stop to stop txts\",\n",
       "       'Ur cash-balance is currently 500 pounds - to maximize ur cash-in now send GO to 86688 only 150p/msg. CC 08718720201 HG/Suite342/2Lands Row/W1J6HL',\n",
       "       'This message is free. Welcome to the new & improved Sex & Dogging club! To unsubscribe from this service reply STOP. msgs@150p 18+only',\n",
       "       'URGENT!! Your 4* Costa Del Sol Holiday or £5000 await collection. Call 09050090044 Now toClaim. SAE, TC s, POBox334, Stockport, SK38xh, Cost£1.50/pm, Max10mins',\n",
       "       'You have an important customer service announcement from PREMIER.'],\n",
       "      dtype=object)"
      ]
     },
     "execution_count": 42,
     "metadata": {},
     "output_type": "execute_result"
    }
   ],
   "source": [
    "# Inspecting the messages labeled as spam\n",
    "sms[sms['Label']=='spam'].sample(5)['Message'].values"
   ]
  },
  {
   "cell_type": "markdown",
   "id": "2ec4c21c",
   "metadata": {},
   "source": [
    "From the above set of messages we can identify that `spam` emails tend to display a higher amount of numbers, symbols, and capital letters. We will use these three features to predict spam messages."
   ]
  },
  {
   "cell_type": "code",
   "execution_count": 43,
   "id": "9bfc50d8",
   "metadata": {},
   "outputs": [],
   "source": [
    "from sklearn.model_selection import train_test_split\n",
    "# Splitting data\n",
    "train_sms, test_sms = train_test_split(sms, test_size=0.2, random_state=8)\n",
    "\n",
    "## Separate outcome from message\n",
    "train_sms_y = (train_sms['Label'] == 'spam').astype(int)\n",
    "train_sms_X = train_sms['Message']"
   ]
  },
  {
   "cell_type": "code",
   "execution_count": 44,
   "id": "22d38454",
   "metadata": {},
   "outputs": [],
   "source": [
    "import re\n",
    "#Setting up functions to identify the selected features in percentage form\n",
    "def get_num(text):\n",
    "    return sum(map(str.isdigit, text))/len(text)\n",
    "\n",
    "def get_capital(text):\n",
    "    return len(re.findall(r'[A-Z]', text))/len(text)\n",
    "\n",
    "symbols='#!/\\$%?&*()_+-^[]{|}><~;:.,»«@£=\"'+\"'\"\n",
    "def get_symbol(text):\n",
    "    return sum([char_ in symbols for char_ in text])/len(text)\n",
    "\n",
    "def first_word(text):\n",
    "    return text.split(sep=' ')[0].lower().replace('!','')"
   ]
  },
  {
   "cell_type": "code",
   "execution_count": 45,
   "id": "2782d9cf",
   "metadata": {
    "scrolled": true
   },
   "outputs": [
    {
     "data": {
      "text/html": [
       "<div>\n",
       "<style scoped>\n",
       "    .dataframe tbody tr th:only-of-type {\n",
       "        vertical-align: middle;\n",
       "    }\n",
       "\n",
       "    .dataframe tbody tr th {\n",
       "        vertical-align: top;\n",
       "    }\n",
       "\n",
       "    .dataframe thead th {\n",
       "        text-align: right;\n",
       "    }\n",
       "</style>\n",
       "<table border=\"1\" class=\"dataframe\">\n",
       "  <thead>\n",
       "    <tr style=\"text-align: right;\">\n",
       "      <th></th>\n",
       "      <th>numeric</th>\n",
       "      <th>num_capital</th>\n",
       "      <th>num_symbol</th>\n",
       "      <th>first_word</th>\n",
       "      <th>classification</th>\n",
       "    </tr>\n",
       "  </thead>\n",
       "  <tbody>\n",
       "    <tr>\n",
       "      <th>684</th>\n",
       "      <td>0.088608</td>\n",
       "      <td>0.094937</td>\n",
       "      <td>0.056962</td>\n",
       "      <td>hi</td>\n",
       "      <td>1</td>\n",
       "    </tr>\n",
       "    <tr>\n",
       "      <th>2663</th>\n",
       "      <td>0.000000</td>\n",
       "      <td>0.015385</td>\n",
       "      <td>0.023077</td>\n",
       "      <td>hello</td>\n",
       "      <td>1</td>\n",
       "    </tr>\n",
       "    <tr>\n",
       "      <th>3999</th>\n",
       "      <td>0.097902</td>\n",
       "      <td>0.118881</td>\n",
       "      <td>0.000000</td>\n",
       "      <td>we</td>\n",
       "      <td>1</td>\n",
       "    </tr>\n",
       "    <tr>\n",
       "      <th>2003</th>\n",
       "      <td>0.000000</td>\n",
       "      <td>0.062937</td>\n",
       "      <td>0.048951</td>\n",
       "      <td>themob&gt;yo</td>\n",
       "      <td>1</td>\n",
       "    </tr>\n",
       "    <tr>\n",
       "      <th>5547</th>\n",
       "      <td>0.012500</td>\n",
       "      <td>0.125000</td>\n",
       "      <td>0.050000</td>\n",
       "      <td>had</td>\n",
       "      <td>1</td>\n",
       "    </tr>\n",
       "    <tr>\n",
       "      <th>159</th>\n",
       "      <td>0.088710</td>\n",
       "      <td>0.040323</td>\n",
       "      <td>0.016129</td>\n",
       "      <td>customer</td>\n",
       "      <td>1</td>\n",
       "    </tr>\n",
       "    <tr>\n",
       "      <th>3174</th>\n",
       "      <td>0.000000</td>\n",
       "      <td>0.070175</td>\n",
       "      <td>0.114035</td>\n",
       "      <td>dear</td>\n",
       "      <td>1</td>\n",
       "    </tr>\n",
       "    <tr>\n",
       "      <th>752</th>\n",
       "      <td>0.000000</td>\n",
       "      <td>0.123077</td>\n",
       "      <td>0.015385</td>\n",
       "      <td>you</td>\n",
       "      <td>1</td>\n",
       "    </tr>\n",
       "    <tr>\n",
       "      <th>2881</th>\n",
       "      <td>0.118421</td>\n",
       "      <td>0.151316</td>\n",
       "      <td>0.072368</td>\n",
       "      <td>last</td>\n",
       "      <td>1</td>\n",
       "    </tr>\n",
       "    <tr>\n",
       "      <th>527</th>\n",
       "      <td>0.151899</td>\n",
       "      <td>0.088608</td>\n",
       "      <td>0.075949</td>\n",
       "      <td>today's</td>\n",
       "      <td>1</td>\n",
       "    </tr>\n",
       "    <tr>\n",
       "      <th>1699</th>\n",
       "      <td>0.033784</td>\n",
       "      <td>0.020270</td>\n",
       "      <td>0.027027</td>\n",
       "      <td>free</td>\n",
       "      <td>1</td>\n",
       "    </tr>\n",
       "    <tr>\n",
       "      <th>296</th>\n",
       "      <td>0.081761</td>\n",
       "      <td>0.138365</td>\n",
       "      <td>0.050314</td>\n",
       "      <td>t-mobile</td>\n",
       "      <td>1</td>\n",
       "    </tr>\n",
       "    <tr>\n",
       "      <th>4048</th>\n",
       "      <td>0.102564</td>\n",
       "      <td>0.025641</td>\n",
       "      <td>0.025641</td>\n",
       "      <td>thanks</td>\n",
       "      <td>1</td>\n",
       "    </tr>\n",
       "    <tr>\n",
       "      <th>4543</th>\n",
       "      <td>0.153846</td>\n",
       "      <td>0.097902</td>\n",
       "      <td>0.027972</td>\n",
       "      <td>freemsg</td>\n",
       "      <td>1</td>\n",
       "    </tr>\n",
       "    <tr>\n",
       "      <th>2680</th>\n",
       "      <td>0.022059</td>\n",
       "      <td>0.102941</td>\n",
       "      <td>0.102941</td>\n",
       "      <td>new</td>\n",
       "      <td>1</td>\n",
       "    </tr>\n",
       "  </tbody>\n",
       "</table>\n",
       "</div>"
      ],
      "text/plain": [
       "       numeric  num_capital  num_symbol first_word  classification\n",
       "684   0.088608     0.094937    0.056962         hi               1\n",
       "2663  0.000000     0.015385    0.023077      hello               1\n",
       "3999  0.097902     0.118881    0.000000         we               1\n",
       "2003  0.000000     0.062937    0.048951  themob>yo               1\n",
       "5547  0.012500     0.125000    0.050000        had               1\n",
       "159   0.088710     0.040323    0.016129   customer               1\n",
       "3174  0.000000     0.070175    0.114035       dear               1\n",
       "752   0.000000     0.123077    0.015385        you               1\n",
       "2881  0.118421     0.151316    0.072368       last               1\n",
       "527   0.151899     0.088608    0.075949    today's               1\n",
       "1699  0.033784     0.020270    0.027027       free               1\n",
       "296   0.081761     0.138365    0.050314   t-mobile               1\n",
       "4048  0.102564     0.025641    0.025641     thanks               1\n",
       "4543  0.153846     0.097902    0.027972    freemsg               1\n",
       "2680  0.022059     0.102941    0.102941        new               1"
      ]
     },
     "execution_count": 45,
     "metadata": {},
     "output_type": "execute_result"
    }
   ],
   "source": [
    "## Create a dictonary and convert to a Pandas dataframe\n",
    "d = {'numeric': train_sms_X.apply(get_num), 'num_capital': train_sms_X.apply(get_capital), 'num_symbol': train_sms_X.apply(get_symbol), 'first_word': train_sms_X.apply(first_word)}\n",
    "features_spam = pd.DataFrame(d)\n",
    "features_spam['classification'] = train_sms_y\n",
    "features_spam[features_spam['classification'] == 1].head(15)"
   ]
  },
  {
   "cell_type": "code",
   "execution_count": 46,
   "id": "85b1a84d",
   "metadata": {},
   "outputs": [],
   "source": [
    "from pandas import get_dummies\n",
    "# Encoding the categorical column\n",
    "train_X_encoded = get_dummies(features_spam[['first_word', 'numeric', 'num_capital', 'num_symbol','classification']], columns=['first_word'])\n",
    "spam = train_X_encoded[['first_word_urgent', 'first_word_free','numeric', 'num_capital', 'num_symbol','classification']]"
   ]
  },
  {
   "cell_type": "code",
   "execution_count": 47,
   "id": "d6be56a1",
   "metadata": {},
   "outputs": [
    {
     "name": "stdout",
     "output_type": "stream",
     "text": [
      "Pipeline(steps=[('model', SVC(C=0.5))])\n",
      "Best kernel: rbf\n",
      "Best C: 0.5\n",
      "Best score: 0.8747937396827828\n"
     ]
    }
   ],
   "source": [
    "from sklearn.pipeline import Pipeline \n",
    "from sklearn.model_selection import GridSearchCV\n",
    "from sklearn.svm import SVC\n",
    "## Set up training data for spam\n",
    "train_spam, test_spam = train_test_split(spam, test_size=0.2, random_state=5)\n",
    "train_spam_y = train_spam['classification']\n",
    "train_spam_X = train_spam.drop('classification', axis = 1)\n",
    "test_spam_y = test_spam['classification']\n",
    "test_spam_X = test_spam.drop('classification', axis = 1)\n",
    "\n",
    "pipeline_svm = Pipeline([('model', SVC())])\n",
    "\n",
    "params_svm = {'model__kernel': ['poly','linear','rbf'],\n",
    "              'model__C': [0.1,0.2,0.5]\n",
    "              }\n",
    "\n",
    "grid_svm = GridSearchCV(pipeline_svm, param_grid=params_svm, cv=4, scoring = 'f1').fit(train_spam_X, train_spam_y)\n",
    "print(grid_svm.best_estimator_)\n",
    "\n",
    "kernel = grid_svm.best_estimator_.named_steps['model'].kernel\n",
    "best_C = grid_svm.best_estimator_.named_steps['model'].C\n",
    "\n",
    "print(f'Best kernel: {kernel}')\n",
    "print(f'Best C: {best_C}')\n",
    "print(f'Best score: {grid_svm.best_score_}')"
   ]
  },
  {
   "cell_type": "code",
   "execution_count": 48,
   "id": "36d467bb",
   "metadata": {},
   "outputs": [
    {
     "name": "stdout",
     "output_type": "stream",
     "text": [
      "Pipeline(steps=[('model', SVC(C=2))])\n",
      "Best kernel: rbf\n",
      "Best C: 2\n",
      "Best score: 0.8804783581721448\n"
     ]
    }
   ],
   "source": [
    "# Trying new values for C\n",
    "# Selected best model\n",
    "params_svm = {\n",
    "            'model__kernel': ['poly','linear','rbf'],\n",
    "            'model__C': [0.5, 0.7, 1, 2]}\n",
    "grid_svm = GridSearchCV(pipeline_svm, param_grid=params_svm, cv=4, scoring = 'f1').fit(train_spam_X, train_spam_y)\n",
    "print(grid_svm.best_estimator_)\n",
    "\n",
    "kernel = grid_svm.best_estimator_.named_steps['model'].kernel\n",
    "best_C = grid_svm.best_estimator_.named_steps['model'].C\n",
    "\n",
    "print(f'Best kernel: {kernel}')\n",
    "print(f'Best C: {best_C}')\n",
    "print(f'Best score: {grid_svm.best_score_}')"
   ]
  },
  {
   "cell_type": "code",
   "execution_count": 49,
   "id": "b8574d74",
   "metadata": {},
   "outputs": [
    {
     "name": "stdout",
     "output_type": "stream",
     "text": [
      "F1 of SVC in test: 0.865827937095282\n"
     ]
    }
   ],
   "source": [
    "from sklearn.model_selection import cross_val_score\n",
    "# Fitting and checking accuracy in the test set\n",
    "f1_svc = cross_val_score(grid_svm.best_estimator_, test_spam_X, test_spam_y, cv=5, scoring='f1')\n",
    "print(f'F1 of SVC in test: {f1_svc.mean()}')"
   ]
  },
  {
   "cell_type": "code",
   "execution_count": 50,
   "id": "279965e7",
   "metadata": {},
   "outputs": [
    {
     "data": {
      "text/html": [
       "<div>\n",
       "<style scoped>\n",
       "    .dataframe tbody tr th:only-of-type {\n",
       "        vertical-align: middle;\n",
       "    }\n",
       "\n",
       "    .dataframe tbody tr th {\n",
       "        vertical-align: top;\n",
       "    }\n",
       "\n",
       "    .dataframe thead th {\n",
       "        text-align: right;\n",
       "    }\n",
       "</style>\n",
       "<table border=\"1\" class=\"dataframe\">\n",
       "  <thead>\n",
       "    <tr style=\"text-align: right;\">\n",
       "      <th></th>\n",
       "      <th>param_model</th>\n",
       "      <th>mean_test_score</th>\n",
       "    </tr>\n",
       "  </thead>\n",
       "  <tbody>\n",
       "    <tr>\n",
       "      <th>3</th>\n",
       "      <td>(KNeighborsClassifier())</td>\n",
       "      <td>0.894813</td>\n",
       "    </tr>\n",
       "    <tr>\n",
       "      <th>0</th>\n",
       "      <td>VotingClassifier(estimators=[('svm', Pipeline(...</td>\n",
       "      <td>0.893565</td>\n",
       "    </tr>\n",
       "    <tr>\n",
       "      <th>2</th>\n",
       "      <td>DecisionTreeClassifier(max_depth=6)</td>\n",
       "      <td>0.878753</td>\n",
       "    </tr>\n",
       "    <tr>\n",
       "      <th>1</th>\n",
       "      <td>(SVC())</td>\n",
       "      <td>0.872153</td>\n",
       "    </tr>\n",
       "  </tbody>\n",
       "</table>\n",
       "</div>"
      ],
      "text/plain": [
       "                                         param_model  mean_test_score\n",
       "3                           (KNeighborsClassifier())         0.894813\n",
       "0  VotingClassifier(estimators=[('svm', Pipeline(...         0.893565\n",
       "2                DecisionTreeClassifier(max_depth=6)         0.878753\n",
       "1                                            (SVC())         0.872153"
      ]
     },
     "execution_count": 50,
     "metadata": {},
     "output_type": "execute_result"
    }
   ],
   "source": [
    "# Create a Voting Classifier\n",
    "from sklearn.ensemble import VotingClassifier\n",
    "from sklearn.tree import DecisionTreeClassifier\n",
    "from sklearn.neighbors import KNeighborsClassifier\n",
    "\n",
    "# Creating an ensemble\n",
    "# Defining the individual models\n",
    "model1 = Pipeline([('model',SVC())])\n",
    "model2 = DecisionTreeClassifier(max_depth=6)\n",
    "model3 = Pipeline([('model', KNeighborsClassifier())])\n",
    "                  \n",
    "## Create the ensemble\n",
    "my_ensemble = VotingClassifier(estimators=[('svm', model1),('tree', model2),('knn', model3)], voting='hard')\n",
    "\n",
    "## Pipeline to compare models \n",
    "model_pipe = Pipeline([('model', SVC())])\n",
    "candidate_models = {'model': [my_ensemble, model1, model2, model3]}\n",
    "\n",
    "## Cross-validated ROC AUC scores\n",
    "grid_models = GridSearchCV(model_pipe, candidate_models, cv=5, scoring = 'f1').fit(train_spam_X, train_spam_y)\n",
    "pd.DataFrame(grid_models.cv_results_).sort_values('mean_test_score', ascending=False)[['param_model', 'mean_test_score']]\n"
   ]
  },
  {
   "cell_type": "code",
   "execution_count": 51,
   "id": "d6fdd12d",
   "metadata": {},
   "outputs": [
    {
     "name": "stdout",
     "output_type": "stream",
     "text": [
      "F1 of best ensemble in test: 0.8568285142753227\n"
     ]
    }
   ],
   "source": [
    " #Fitting and checking accuracy in the test set\n",
    "f1_ensemble = cross_val_score(grid_models.best_estimator_, test_spam_X, test_spam_y, cv=5, scoring='f1')\n",
    "print(f'F1 of best ensemble in test: {f1_ensemble.mean()}')"
   ]
  },
  {
   "cell_type": "markdown",
   "id": "59dd69ad",
   "metadata": {},
   "source": [
    "### Best Model:"
   ]
  },
  {
   "cell_type": "code",
   "execution_count": 52,
   "id": "eb79cc7b",
   "metadata": {},
   "outputs": [
    {
     "name": "stdout",
     "output_type": "stream",
     "text": [
      "Best model: Pipeline(steps=[('model', Pipeline(steps=[('model', KNeighborsClassifier())]))])\n",
      "F1 of best model in test: 0.8568285142753227\n"
     ]
    }
   ],
   "source": [
    "best_model = grid_models.best_estimator_\n",
    "print(f'Best model: {best_model}')\n",
    "f1_best = cross_val_score(best_model, test_spam_X, test_spam_y, cv=5, scoring='f1')\n",
    "print(f'F1 of best model in test: {f1_best.mean()}')"
   ]
  },
  {
   "cell_type": "markdown",
   "id": "1292702b",
   "metadata": {},
   "source": [
    "### Methods\n",
    "First, the data is read and explored by displaying its head along with some example \"spam\" messages.\n",
    "After close inspection of example spam emails we can note that these messages have a greater amount of digits, capital letters, and symbols. Moreover, the word *\"urgent\"* is the most common first word in spam messages. Thus, I created four functions to identify the selected features in the form of percentage on the analyzed message. Because the column `first_word` is categorical and has text features I decided to One Hot encode it. Using these features I created a new data set and split it into `train` and `test`. \n",
    "\n",
    "For the predictive models I decided to utilize a Support Vector Machine and an ensemble with `SVC`, `DecisionTreeClassifier`, and `KNeighborsClassifier`. Through a cross-validated grid search I identified a higher F1 score the model returned by the ensemble with a score of $0.89$ for the train set and a score of $0.87$ for the test set."
   ]
  },
  {
   "cell_type": "markdown",
   "id": "962f0b99",
   "metadata": {},
   "source": [
    "## Question 2"
   ]
  },
  {
   "cell_type": "code",
   "execution_count": 53,
   "id": "e462e3ef",
   "metadata": {},
   "outputs": [
    {
     "name": "stdout",
     "output_type": "stream",
     "text": [
      "<class 'pandas.core.frame.DataFrame'>\n",
      "RangeIndex: 608400 entries, 0 to 608399\n",
      "Data columns (total 10 columns):\n",
      " #   Column                          Non-Null Count   Dtype  \n",
      "---  ------                          --------------   -----  \n",
      " 0   ID                              608400 non-null  int64  \n",
      " 1   Full_Sample_ID                  608400 non-null  object \n",
      " 2   DosingLevel                     608400 non-null  object \n",
      " 3   Target                          608400 non-null  int64  \n",
      " 4   CFS.Brake.Pedal.Force           608400 non-null  float64\n",
      " 5   CFS.Accelerator.Pedal.Position  608400 non-null  float64\n",
      " 6   CFS.Steering.Wheel.Angle        608400 non-null  float64\n",
      " 7   CFS.Steering.Wheel.Angle.Rate   608400 non-null  float64\n",
      " 8   SCC.Lane.Deviation.2            608400 non-null  float64\n",
      " 9   VDS.Veh.Speed                   608400 non-null  float64\n",
      "dtypes: float64(6), int64(2), object(2)\n",
      "memory usage: 46.4+ MB\n"
     ]
    },
    {
     "data": {
      "text/html": [
       "<div>\n",
       "<style scoped>\n",
       "    .dataframe tbody tr th:only-of-type {\n",
       "        vertical-align: middle;\n",
       "    }\n",
       "\n",
       "    .dataframe tbody tr th {\n",
       "        vertical-align: top;\n",
       "    }\n",
       "\n",
       "    .dataframe thead th {\n",
       "        text-align: right;\n",
       "    }\n",
       "</style>\n",
       "<table border=\"1\" class=\"dataframe\">\n",
       "  <thead>\n",
       "    <tr style=\"text-align: right;\">\n",
       "      <th></th>\n",
       "      <th>ID</th>\n",
       "      <th>Full_Sample_ID</th>\n",
       "      <th>DosingLevel</th>\n",
       "      <th>Target</th>\n",
       "      <th>CFS.Brake.Pedal.Force</th>\n",
       "      <th>CFS.Accelerator.Pedal.Position</th>\n",
       "      <th>CFS.Steering.Wheel.Angle</th>\n",
       "      <th>CFS.Steering.Wheel.Angle.Rate</th>\n",
       "      <th>SCC.Lane.Deviation.2</th>\n",
       "      <th>VDS.Veh.Speed</th>\n",
       "    </tr>\n",
       "  </thead>\n",
       "  <tbody>\n",
       "    <tr>\n",
       "      <th>0</th>\n",
       "      <td>34</td>\n",
       "      <td>34_1_YM</td>\n",
       "      <td>YM</td>\n",
       "      <td>1</td>\n",
       "      <td>0.030653</td>\n",
       "      <td>0.383080</td>\n",
       "      <td>2.021470</td>\n",
       "      <td>3.345467</td>\n",
       "      <td>-5.376608</td>\n",
       "      <td>71.282471</td>\n",
       "    </tr>\n",
       "    <tr>\n",
       "      <th>1</th>\n",
       "      <td>34</td>\n",
       "      <td>34_1_YM</td>\n",
       "      <td>YM</td>\n",
       "      <td>1</td>\n",
       "      <td>-0.007314</td>\n",
       "      <td>0.385061</td>\n",
       "      <td>2.109360</td>\n",
       "      <td>3.961737</td>\n",
       "      <td>-5.422563</td>\n",
       "      <td>71.281548</td>\n",
       "    </tr>\n",
       "    <tr>\n",
       "      <th>2</th>\n",
       "      <td>34</td>\n",
       "      <td>34_1_YM</td>\n",
       "      <td>YM</td>\n",
       "      <td>1</td>\n",
       "      <td>-0.007314</td>\n",
       "      <td>0.386401</td>\n",
       "      <td>2.153305</td>\n",
       "      <td>3.961737</td>\n",
       "      <td>-5.469440</td>\n",
       "      <td>71.281052</td>\n",
       "    </tr>\n",
       "    <tr>\n",
       "      <th>3</th>\n",
       "      <td>34</td>\n",
       "      <td>34_1_YM</td>\n",
       "      <td>YM</td>\n",
       "      <td>1</td>\n",
       "      <td>0.002178</td>\n",
       "      <td>0.387513</td>\n",
       "      <td>2.197250</td>\n",
       "      <td>4.049776</td>\n",
       "      <td>-5.517264</td>\n",
       "      <td>71.280991</td>\n",
       "    </tr>\n",
       "    <tr>\n",
       "      <th>4</th>\n",
       "      <td>34</td>\n",
       "      <td>34_1_YM</td>\n",
       "      <td>YM</td>\n",
       "      <td>1</td>\n",
       "      <td>0.011669</td>\n",
       "      <td>0.388236</td>\n",
       "      <td>2.285140</td>\n",
       "      <td>3.521544</td>\n",
       "      <td>-5.564104</td>\n",
       "      <td>71.281364</td>\n",
       "    </tr>\n",
       "  </tbody>\n",
       "</table>\n",
       "</div>"
      ],
      "text/plain": [
       "   ID Full_Sample_ID DosingLevel  Target  CFS.Brake.Pedal.Force  \\\n",
       "0  34        34_1_YM          YM       1               0.030653   \n",
       "1  34        34_1_YM          YM       1              -0.007314   \n",
       "2  34        34_1_YM          YM       1              -0.007314   \n",
       "3  34        34_1_YM          YM       1               0.002178   \n",
       "4  34        34_1_YM          YM       1               0.011669   \n",
       "\n",
       "   CFS.Accelerator.Pedal.Position  CFS.Steering.Wheel.Angle  \\\n",
       "0                        0.383080                  2.021470   \n",
       "1                        0.385061                  2.109360   \n",
       "2                        0.386401                  2.153305   \n",
       "3                        0.387513                  2.197250   \n",
       "4                        0.388236                  2.285140   \n",
       "\n",
       "   CFS.Steering.Wheel.Angle.Rate  SCC.Lane.Deviation.2  VDS.Veh.Speed  \n",
       "0                       3.345467             -5.376608      71.282471  \n",
       "1                       3.961737             -5.422563      71.281548  \n",
       "2                       3.961737             -5.469440      71.281052  \n",
       "3                       4.049776             -5.517264      71.280991  \n",
       "4                       3.521544             -5.564104      71.281364  "
      ]
     },
     "execution_count": 53,
     "metadata": {},
     "output_type": "execute_result"
    }
   ],
   "source": [
    "# Reading and exploring dataset\n",
    "driving = pd.read_csv(\"https://remiller1450.github.io/data/drugdetection.csv\")\n",
    "driving.info()\n",
    "driving.head(5)"
   ]
  },
  {
   "cell_type": "code",
   "execution_count": 54,
   "id": "b908165f",
   "metadata": {},
   "outputs": [
    {
     "data": {
      "image/png": "[encoded data removed]",
      "text/plain": [
       "<Figure size 1000x800 with 2 Axes>"
      ]
     },
     "metadata": {},
     "output_type": "display_data"
    }
   ],
   "source": [
    "import seaborn as sns\n",
    "import matplotlib.pyplot as plt\n",
    "\n",
    "# Create correlation matrix\n",
    "corr_matrix = driving.corr()\n",
    "\n",
    "plt.figure(figsize=(10, 8))\n",
    "sns.heatmap(corr_matrix, annot=True, cmap='coolwarm')\n",
    "plt.title('Correlation Matrix')\n",
    "plt.show()"
   ]
  },
  {
   "cell_type": "code",
   "execution_count": 55,
   "id": "ca029f53",
   "metadata": {
    "scrolled": true
   },
   "outputs": [
    {
     "data": {
      "text/html": [
       "<div>\n",
       "<style scoped>\n",
       "    .dataframe tbody tr th:only-of-type {\n",
       "        vertical-align: middle;\n",
       "    }\n",
       "\n",
       "    .dataframe tbody tr th {\n",
       "        vertical-align: top;\n",
       "    }\n",
       "\n",
       "    .dataframe thead th {\n",
       "        text-align: right;\n",
       "    }\n",
       "</style>\n",
       "<table border=\"1\" class=\"dataframe\">\n",
       "  <thead>\n",
       "    <tr style=\"text-align: right;\">\n",
       "      <th></th>\n",
       "      <th>Mean_Position</th>\n",
       "      <th>Mean_Angle_Rate</th>\n",
       "      <th>Mean_Speed</th>\n",
       "      <th>SD_Position</th>\n",
       "      <th>SD_Angle_Rate</th>\n",
       "      <th>SD_Speed</th>\n",
       "      <th>Target</th>\n",
       "    </tr>\n",
       "    <tr>\n",
       "      <th>Full_Sample_ID</th>\n",
       "      <th></th>\n",
       "      <th></th>\n",
       "      <th></th>\n",
       "      <th></th>\n",
       "      <th></th>\n",
       "      <th></th>\n",
       "      <th></th>\n",
       "    </tr>\n",
       "  </thead>\n",
       "  <tbody>\n",
       "    <tr>\n",
       "      <th>26_3_ZM</th>\n",
       "      <td>0.407955</td>\n",
       "      <td>0.160108</td>\n",
       "      <td>69.779937</td>\n",
       "      <td>0.251274</td>\n",
       "      <td>7.311205</td>\n",
       "      <td>4.466093</td>\n",
       "      <td>1</td>\n",
       "    </tr>\n",
       "    <tr>\n",
       "      <th>3_1_XP</th>\n",
       "      <td>0.316936</td>\n",
       "      <td>0.420507</td>\n",
       "      <td>64.383093</td>\n",
       "      <td>0.157873</td>\n",
       "      <td>6.558829</td>\n",
       "      <td>4.774798</td>\n",
       "      <td>0</td>\n",
       "    </tr>\n",
       "    <tr>\n",
       "      <th>10_2_XP</th>\n",
       "      <td>0.325805</td>\n",
       "      <td>0.429457</td>\n",
       "      <td>67.404438</td>\n",
       "      <td>0.121302</td>\n",
       "      <td>2.866360</td>\n",
       "      <td>2.659039</td>\n",
       "      <td>0</td>\n",
       "    </tr>\n",
       "    <tr>\n",
       "      <th>3_1_YM</th>\n",
       "      <td>0.357649</td>\n",
       "      <td>0.253747</td>\n",
       "      <td>62.261777</td>\n",
       "      <td>0.250538</td>\n",
       "      <td>5.020827</td>\n",
       "      <td>10.468876</td>\n",
       "      <td>1</td>\n",
       "    </tr>\n",
       "    <tr>\n",
       "      <th>123_2_XP</th>\n",
       "      <td>0.426327</td>\n",
       "      <td>0.596413</td>\n",
       "      <td>71.048139</td>\n",
       "      <td>0.267812</td>\n",
       "      <td>6.814416</td>\n",
       "      <td>2.562071</td>\n",
       "      <td>0</td>\n",
       "    </tr>\n",
       "  </tbody>\n",
       "</table>\n",
       "</div>"
      ],
      "text/plain": [
       "                Mean_Position  Mean_Angle_Rate  Mean_Speed  SD_Position  \\\n",
       "Full_Sample_ID                                                            \n",
       "26_3_ZM              0.407955         0.160108   69.779937     0.251274   \n",
       "3_1_XP               0.316936         0.420507   64.383093     0.157873   \n",
       "10_2_XP              0.325805         0.429457   67.404438     0.121302   \n",
       "3_1_YM               0.357649         0.253747   62.261777     0.250538   \n",
       "123_2_XP             0.426327         0.596413   71.048139     0.267812   \n",
       "\n",
       "                SD_Angle_Rate   SD_Speed  Target  \n",
       "Full_Sample_ID                                    \n",
       "26_3_ZM              7.311205   4.466093       1  \n",
       "3_1_XP               6.558829   4.774798       0  \n",
       "10_2_XP              2.866360   2.659039       0  \n",
       "3_1_YM               5.020827  10.468876       1  \n",
       "123_2_XP             6.814416   2.562071       0  "
      ]
     },
     "execution_count": 55,
     "metadata": {},
     "output_type": "execute_result"
    }
   ],
   "source": [
    "# Rearranging data\n",
    "my_vars = ['CFS.Accelerator.Pedal.Position', 'CFS.Steering.Wheel.Angle.Rate', 'VDS.Veh.Speed']\n",
    "train_X_G = pd.concat([driving.groupby('Full_Sample_ID')[my_vars].mean(),\n",
    "                        driving.groupby('Full_Sample_ID')[my_vars].std()], axis=1)\n",
    "train_X_G.columns = ['Mean_Position', 'Mean_Angle_Rate', 'Mean_Speed', 'SD_Position', 'SD_Angle_Rate', 'SD_Speed']\n",
    "\n",
    "# Grouping by Full Sample ID and getting the first label per group\n",
    "train_y_p = driving.groupby('Full_Sample_ID').first()\n",
    "train_y_G = train_y_p['Target']\n",
    "train_X_G['Target'] = train_y_G\n",
    "train_driving, test_driving = train_test_split(train_X_G, test_size=0.2, random_state=5)\n",
    "train_driving.head()"
   ]
  },
  {
   "cell_type": "code",
   "execution_count": 56,
   "id": "6222f967",
   "metadata": {},
   "outputs": [
    {
     "name": "stdout",
     "output_type": "stream",
     "text": [
      "Pipeline(steps=[('model',\n",
      "                 KNeighborsClassifier(n_neighbors=7, p=1, weights='distance'))])\n",
      "Best n_neighbors: 7\n",
      "Best weights: distance\n",
      "Best score: 0.6906826434277414\n"
     ]
    }
   ],
   "source": [
    "from sklearn.preprocessing import OneHotEncoder, StandardScaler\n",
    "from sklearn.decomposition import PCA\n",
    "\n",
    "\n",
    "train_driving, test_driving = train_test_split(train_X_G, test_size=0.2, random_state=5)\n",
    "train_driving_y = train_driving['Target']\n",
    "train_driving_X = train_driving.drop('Target', axis = 1)\n",
    "test_driving_y = test_driving['Target']\n",
    "test_driving_X = test_driving.drop('Target', axis = 1)\n",
    "\n",
    "pipeline_k =  Pipeline([\n",
    "    ('model', KNeighborsClassifier())])\n",
    "\n",
    "params_k = {'model__n_neighbors': [3,4,5,7,8], \n",
    "          'model__weights': ['distance','uniform'],\n",
    "          'model__p': [1, 2]\n",
    "         }\n",
    "\n",
    "grid_k = GridSearchCV(pipeline_k, param_grid=params_k, cv=5, scoring = 'roc_auc').fit(train_driving_X, train_driving_y)\n",
    "print(grid_k.best_estimator_)\n",
    "\n",
    "n_neighbors = grid_k.best_estimator_.named_steps['model'].n_neighbors\n",
    "weights = grid_k.best_estimator_.named_steps['model'].weights\n",
    "\n",
    "print(f'Best n_neighbors: {n_neighbors}')\n",
    "print(f'Best weights: {weights}')\n",
    "print(f'Best score: {grid_k.best_score_}')"
   ]
  },
  {
   "cell_type": "code",
   "execution_count": 57,
   "id": "d22f8196",
   "metadata": {},
   "outputs": [
    {
     "name": "stdout",
     "output_type": "stream",
     "text": [
      "AUC of KNeighbors model in test: 0.6633333333333333\n"
     ]
    }
   ],
   "source": [
    "# Fitting and checking accuracy in the test set\n",
    "auc_k = cross_val_score(grid_k.best_estimator_, test_driving_X, test_driving_y, cv=5, scoring='roc_auc')\n",
    "print(f'AUC of KNeighbors model in test: {auc_k.mean()}')"
   ]
  },
  {
   "cell_type": "code",
   "execution_count": 58,
   "id": "a3db4a50",
   "metadata": {},
   "outputs": [
    {
     "data": {
      "image/png": "[encoded data removed]",
      "text/plain": [
       "<Figure size 640x480 with 1 Axes>"
      ]
     },
     "metadata": {},
     "output_type": "display_data"
    }
   ],
   "source": [
    "from sklearn.metrics import roc_curve, auc\n",
    "from sklearn.model_selection import cross_val_predict\n",
    "\n",
    "test_y_pred_prob = cross_val_predict(estimator = grid_k.best_estimator_, X = test_driving_X, y = test_driving_y, cv = 5, method = 'predict_proba')\n",
    "\n",
    "fpr, tpr, thresholds = roc_curve(test_driving_y, test_y_pred_prob[:,1], pos_label = 1)\n",
    "roc_auc = auc(fpr, tpr)\n",
    "\n",
    "# Plot ROC curve\n",
    "plt.figure()\n",
    "plt.plot(fpr, tpr, color='darkorange', lw=2, label='ROC curve (area = %0.2f)' % roc_auc)\n",
    "plt.plot([0, 1], [0, 1], color='navy', lw=2)\n",
    "plt.xlim([0.0, 1.0])\n",
    "plt.ylim([0.0, 1.05])\n",
    "plt.xlabel('False Positive Rate')\n",
    "plt.ylabel('True Positive Rate')\n",
    "plt.title('ROC Curve with selected features')\n",
    "plt.legend(loc=\"lower right\")\n",
    "plt.show()"
   ]
  },
  {
   "cell_type": "code",
   "execution_count": 59,
   "id": "f9eaa74a",
   "metadata": {},
   "outputs": [
    {
     "name": "stdout",
     "output_type": "stream",
     "text": [
      "Pipeline(steps=[('scaler', StandardScaler()), ('pca', PCA(n_components=2)),\n",
      "                ('model', SVC(C=0.8, kernel='poly'))])\n",
      "Best kernel: poly\n",
      "Best C: 0.8\n",
      "Best score: 0.6266085693536674\n"
     ]
    }
   ],
   "source": [
    "pipeline_svm = Pipeline([('scaler', StandardScaler()),\n",
    "                         ('pca', PCA(n_components=2)),\n",
    "                         ('model', SVC())])\n",
    "\n",
    "params_svm = {'model__kernel': ['poly','linear','rbf'],\n",
    "               'model__C': [0.5,0.8],\n",
    "              }\n",
    "grid_svm = GridSearchCV(pipeline_svm, param_grid=params_svm, cv=5, scoring = 'roc_auc').fit(train_driving_X, train_driving_y)\n",
    "print(grid_svm.best_estimator_)\n",
    "\n",
    "kernel = grid_svm.best_estimator_.named_steps['model'].kernel\n",
    "best_C = grid_svm.best_estimator_.named_steps['model'].C\n",
    "\n",
    "print(f'Best kernel: {kernel}')\n",
    "print(f'Best C: {best_C}')\n",
    "print(f'Best score: {grid_svm.best_score_}')"
   ]
  },
  {
   "cell_type": "code",
   "execution_count": 60,
   "id": "bb875d98",
   "metadata": {},
   "outputs": [
    {
     "name": "stdout",
     "output_type": "stream",
     "text": [
      "AUC of SVC model in test: 0.625\n"
     ]
    }
   ],
   "source": [
    "# Fitting and checking accuracy in the test set\n",
    "auc_svm = cross_val_score(grid_svm.best_estimator_, test_driving_X, test_driving_y, cv=5, scoring='roc_auc')\n",
    "print(f'AUC of SVC model in test: {auc_svm.mean()}')"
   ]
  },
  {
   "cell_type": "code",
   "execution_count": 61,
   "id": "007d63eb",
   "metadata": {},
   "outputs": [
    {
     "data": {
      "text/html": [
       "<div>\n",
       "<style scoped>\n",
       "    .dataframe tbody tr th:only-of-type {\n",
       "        vertical-align: middle;\n",
       "    }\n",
       "\n",
       "    .dataframe tbody tr th {\n",
       "        vertical-align: top;\n",
       "    }\n",
       "\n",
       "    .dataframe thead th {\n",
       "        text-align: right;\n",
       "    }\n",
       "</style>\n",
       "<table border=\"1\" class=\"dataframe\">\n",
       "  <thead>\n",
       "    <tr style=\"text-align: right;\">\n",
       "      <th></th>\n",
       "      <th>param_model</th>\n",
       "      <th>mean_test_score</th>\n",
       "    </tr>\n",
       "  </thead>\n",
       "  <tbody>\n",
       "    <tr>\n",
       "      <th>3</th>\n",
       "      <td>(KNeighborsClassifier())</td>\n",
       "      <td>0.664263</td>\n",
       "    </tr>\n",
       "    <tr>\n",
       "      <th>0</th>\n",
       "      <td>VotingClassifier(estimators=[('svm',\\n        ...</td>\n",
       "      <td>0.604023</td>\n",
       "    </tr>\n",
       "    <tr>\n",
       "      <th>2</th>\n",
       "      <td>DecisionTreeClassifier(max_depth=6)</td>\n",
       "      <td>0.565592</td>\n",
       "    </tr>\n",
       "    <tr>\n",
       "      <th>1</th>\n",
       "      <td>(SVC(kernel='poly', probability=True))</td>\n",
       "      <td>0.530458</td>\n",
       "    </tr>\n",
       "  </tbody>\n",
       "</table>\n",
       "</div>"
      ],
      "text/plain": [
       "                                         param_model  mean_test_score\n",
       "3                           (KNeighborsClassifier())         0.664263\n",
       "0  VotingClassifier(estimators=[('svm',\\n        ...         0.604023\n",
       "2                DecisionTreeClassifier(max_depth=6)         0.565592\n",
       "1             (SVC(kernel='poly', probability=True))         0.530458"
      ]
     },
     "execution_count": 61,
     "metadata": {},
     "output_type": "execute_result"
    }
   ],
   "source": [
    "## Defining the individual models\n",
    "model1 = Pipeline([('model', SVC(kernel = 'poly', probability=True))])\n",
    "model2 = DecisionTreeClassifier(max_depth=6)\n",
    "model3 = Pipeline([('model', KNeighborsClassifier())])\n",
    "                  \n",
    "## Create the ensemble\n",
    "my_ensemble = VotingClassifier(estimators=[('svm', model1),('tree', model2),('knn', model3)], voting='soft')\n",
    "\n",
    "## Pipeline to compare models \n",
    "model_pipe = Pipeline([('model', SVC())])\n",
    "candidate_models = {'model': [my_ensemble, model1, model2, model3]}\n",
    "\n",
    "## Cross-validated ROC AUC scores\n",
    "grid_models = GridSearchCV(model_pipe, candidate_models, cv=5, scoring = 'roc_auc').fit(train_driving_X, train_driving_y)\n",
    "pd.DataFrame(grid_models.cv_results_).sort_values('mean_test_score', ascending=False)[['param_model', 'mean_test_score']]\n"
   ]
  },
  {
   "cell_type": "code",
   "execution_count": 62,
   "id": "8684350c",
   "metadata": {},
   "outputs": [
    {
     "name": "stdout",
     "output_type": "stream",
     "text": [
      "VotingClassifier(estimators=[('svm',\n",
      "                              Pipeline(steps=[('model',\n",
      "                                               SVC(kernel='poly',\n",
      "                                                   probability=True))])),\n",
      "                             ('tree', DecisionTreeClassifier(max_depth=4)),\n",
      "                             ('knn',\n",
      "                              Pipeline(steps=[('model',\n",
      "                                               KNeighborsClassifier(n_neighbors=7))]))],\n",
      "                 voting='soft')\n",
      "0.6290777051561365\n"
     ]
    }
   ],
   "source": [
    "## Some tuning parameters to search over\n",
    "params = {'svm__model__kernel': ['poly','linear'], \n",
    "          'tree__max_depth': [3,4],\n",
    "         'knn__model__n_neighbors': [4,5,7],\n",
    "         'knn__model__weights': ['distance','uniform'],\n",
    "         'voting': ['soft']}\n",
    "\n",
    "## Perform the grid search\n",
    "grid_voting = GridSearchCV(my_ensemble, param_grid=params, cv=5, scoring = 'roc_auc').fit(train_driving_X, train_driving_y)\n",
    "print(grid_voting.best_estimator_)\n",
    "print(grid_voting.best_score_)"
   ]
  },
  {
   "cell_type": "code",
   "execution_count": 63,
   "id": "ffbd8335",
   "metadata": {},
   "outputs": [
    {
     "name": "stdout",
     "output_type": "stream",
     "text": [
      "AUC of Best Ensemble in test: 0.49000000000000005\n"
     ]
    }
   ],
   "source": [
    "auc_svm = cross_val_score(grid_voting.best_estimator_, test_driving_X, test_driving_y, cv=5, scoring='roc_auc')\n",
    "print(f'AUC of Best Ensemble in test: {auc_svm.mean()}')"
   ]
  },
  {
   "cell_type": "code",
   "execution_count": 64,
   "id": "379c7644",
   "metadata": {},
   "outputs": [
    {
     "name": "stdout",
     "output_type": "stream",
     "text": [
      "0.5691699604743082\n"
     ]
    }
   ],
   "source": [
    "## Set up the base estimators (model1 - model3 defined previously)\n",
    "my_base_models = my_base_models = [('svm', model1), ('tree', model2), ('knn', model3)]\n",
    "\n",
    "## Set up the final estimator\n",
    "my_final_model = DecisionTreeClassifier(max_depth=2)\n",
    "\n",
    "## Create the stack\n",
    "from sklearn.ensemble import StackingClassifier\n",
    "my_stack = StackingClassifier(estimators = my_base_models, \n",
    "                              final_estimator = my_final_model, \n",
    "                              stack_method ='predict_proba', cv=5)\n",
    "\n",
    "## Fit and Evaluate (note that CV is done internally in StackingClassifier)\n",
    "fitted_stack = my_stack.fit(train_driving_X, train_driving_y)\n",
    "cv_stacked_preds = fitted_stack.predict(test_driving_X)\n",
    "\n",
    "from sklearn.metrics import roc_auc_score\n",
    "print(roc_auc_score(test_driving_y, cv_stacked_preds))"
   ]
  },
  {
   "cell_type": "markdown",
   "id": "63fcdde7",
   "metadata": {},
   "source": [
    "### Best model"
   ]
  },
  {
   "cell_type": "code",
   "execution_count": 65,
   "id": "00a1817e",
   "metadata": {},
   "outputs": [
    {
     "name": "stdout",
     "output_type": "stream",
     "text": [
      "Best model: Pipeline(steps=[('model',\n",
      "                 KNeighborsClassifier(n_neighbors=7, p=1, weights='distance'))])\n",
      "ROC AUC of best model in test: 0.6906826434277414\n"
     ]
    }
   ],
   "source": [
    "best_model = grid_k.best_estimator_\n",
    "print(f'Best model: {best_model}')\n",
    "f1_best = cross_val_score(best_model, train_driving_X, train_driving_y, cv=5, scoring='roc_auc')\n",
    "print(f'ROC AUC of best model in test: {f1_best.mean()}')"
   ]
  },
  {
   "cell_type": "markdown",
   "id": "e74b9b0a",
   "metadata": {},
   "source": [
    "### Methods"
   ]
  },
  {
   "cell_type": "markdown",
   "id": "d56e4eab",
   "metadata": {},
   "source": [
    "First, the head of the data is displayed along with a correlation matrix that showcases how each column on the original dataset is related. After analyzing the correlations I decided to choose features that were not too closely related, as we would like to get different information about the driver from our selected estimators. \n",
    "\n",
    "The columns `CFS.Accelerator.Pedal.Position`, `CFS.Steering.Wheel.Angle.Rate`, `VDS.Veh.Speed` were chosen as estimators. Then group the data based on `Full_Sample_ID` and getting the `.mean()` and `.std()` from the selected features, creating a new data frame that was then split into test and train sets.\n",
    "\n",
    "The predictive models used are:\n",
    "1. A KNeighborsClassifier.\n",
    "2. An SVC model with previous PCA to reduce some of the correlations between variables.\n",
    "3. A Voting Classifier with an ensemble using SVC, KNNeighbors, and Tree Classifier.\n",
    "\n",
    "The highest AUC score was given by the KNeighborsClassifier model, with a $0.69$ score on the training set and a $0.67$ score on the test data. Below the model I display the ROC curve to determine if the form was correct, even though the curve displays various up-and-downs, the area is calculated correctly."
   ]
  },
  {
   "cell_type": "markdown",
   "id": "71e13623",
   "metadata": {},
   "source": [
    "## Question 3"
   ]
  },
  {
   "cell_type": "code",
   "execution_count": 66,
   "id": "c3dcf596",
   "metadata": {},
   "outputs": [
    {
     "data": {
      "text/html": [
       "<div>\n",
       "<style scoped>\n",
       "    .dataframe tbody tr th:only-of-type {\n",
       "        vertical-align: middle;\n",
       "    }\n",
       "\n",
       "    .dataframe tbody tr th {\n",
       "        vertical-align: top;\n",
       "    }\n",
       "\n",
       "    .dataframe thead th {\n",
       "        text-align: right;\n",
       "    }\n",
       "</style>\n",
       "<table border=\"1\" class=\"dataframe\">\n",
       "  <thead>\n",
       "    <tr style=\"text-align: right;\">\n",
       "      <th></th>\n",
       "      <th>Order</th>\n",
       "      <th>PID</th>\n",
       "      <th>MS.SubClass</th>\n",
       "      <th>MS.Zoning</th>\n",
       "      <th>Lot.Frontage</th>\n",
       "      <th>Lot.Area</th>\n",
       "      <th>Street</th>\n",
       "      <th>Alley</th>\n",
       "      <th>Lot.Shape</th>\n",
       "      <th>Land.Contour</th>\n",
       "      <th>...</th>\n",
       "      <th>Pool.Area</th>\n",
       "      <th>Pool.QC</th>\n",
       "      <th>Fence</th>\n",
       "      <th>Misc.Feature</th>\n",
       "      <th>Misc.Val</th>\n",
       "      <th>Mo.Sold</th>\n",
       "      <th>Yr.Sold</th>\n",
       "      <th>Sale.Type</th>\n",
       "      <th>Sale.Condition</th>\n",
       "      <th>SalePrice</th>\n",
       "    </tr>\n",
       "  </thead>\n",
       "  <tbody>\n",
       "    <tr>\n",
       "      <th>0</th>\n",
       "      <td>1</td>\n",
       "      <td>526301100</td>\n",
       "      <td>20</td>\n",
       "      <td>RL</td>\n",
       "      <td>141.0</td>\n",
       "      <td>31770</td>\n",
       "      <td>Pave</td>\n",
       "      <td>NaN</td>\n",
       "      <td>IR1</td>\n",
       "      <td>Lvl</td>\n",
       "      <td>...</td>\n",
       "      <td>0</td>\n",
       "      <td>NaN</td>\n",
       "      <td>NaN</td>\n",
       "      <td>NaN</td>\n",
       "      <td>0</td>\n",
       "      <td>5</td>\n",
       "      <td>2010</td>\n",
       "      <td>WD</td>\n",
       "      <td>Normal</td>\n",
       "      <td>215000</td>\n",
       "    </tr>\n",
       "    <tr>\n",
       "      <th>1</th>\n",
       "      <td>2</td>\n",
       "      <td>526350040</td>\n",
       "      <td>20</td>\n",
       "      <td>RH</td>\n",
       "      <td>80.0</td>\n",
       "      <td>11622</td>\n",
       "      <td>Pave</td>\n",
       "      <td>NaN</td>\n",
       "      <td>Reg</td>\n",
       "      <td>Lvl</td>\n",
       "      <td>...</td>\n",
       "      <td>0</td>\n",
       "      <td>NaN</td>\n",
       "      <td>MnPrv</td>\n",
       "      <td>NaN</td>\n",
       "      <td>0</td>\n",
       "      <td>6</td>\n",
       "      <td>2010</td>\n",
       "      <td>WD</td>\n",
       "      <td>Normal</td>\n",
       "      <td>105000</td>\n",
       "    </tr>\n",
       "    <tr>\n",
       "      <th>2</th>\n",
       "      <td>3</td>\n",
       "      <td>526351010</td>\n",
       "      <td>20</td>\n",
       "      <td>RL</td>\n",
       "      <td>81.0</td>\n",
       "      <td>14267</td>\n",
       "      <td>Pave</td>\n",
       "      <td>NaN</td>\n",
       "      <td>IR1</td>\n",
       "      <td>Lvl</td>\n",
       "      <td>...</td>\n",
       "      <td>0</td>\n",
       "      <td>NaN</td>\n",
       "      <td>NaN</td>\n",
       "      <td>Gar2</td>\n",
       "      <td>12500</td>\n",
       "      <td>6</td>\n",
       "      <td>2010</td>\n",
       "      <td>WD</td>\n",
       "      <td>Normal</td>\n",
       "      <td>172000</td>\n",
       "    </tr>\n",
       "    <tr>\n",
       "      <th>3</th>\n",
       "      <td>4</td>\n",
       "      <td>526353030</td>\n",
       "      <td>20</td>\n",
       "      <td>RL</td>\n",
       "      <td>93.0</td>\n",
       "      <td>11160</td>\n",
       "      <td>Pave</td>\n",
       "      <td>NaN</td>\n",
       "      <td>Reg</td>\n",
       "      <td>Lvl</td>\n",
       "      <td>...</td>\n",
       "      <td>0</td>\n",
       "      <td>NaN</td>\n",
       "      <td>NaN</td>\n",
       "      <td>NaN</td>\n",
       "      <td>0</td>\n",
       "      <td>4</td>\n",
       "      <td>2010</td>\n",
       "      <td>WD</td>\n",
       "      <td>Normal</td>\n",
       "      <td>244000</td>\n",
       "    </tr>\n",
       "    <tr>\n",
       "      <th>4</th>\n",
       "      <td>5</td>\n",
       "      <td>527105010</td>\n",
       "      <td>60</td>\n",
       "      <td>RL</td>\n",
       "      <td>74.0</td>\n",
       "      <td>13830</td>\n",
       "      <td>Pave</td>\n",
       "      <td>NaN</td>\n",
       "      <td>IR1</td>\n",
       "      <td>Lvl</td>\n",
       "      <td>...</td>\n",
       "      <td>0</td>\n",
       "      <td>NaN</td>\n",
       "      <td>MnPrv</td>\n",
       "      <td>NaN</td>\n",
       "      <td>0</td>\n",
       "      <td>3</td>\n",
       "      <td>2010</td>\n",
       "      <td>WD</td>\n",
       "      <td>Normal</td>\n",
       "      <td>189900</td>\n",
       "    </tr>\n",
       "  </tbody>\n",
       "</table>\n",
       "<p>5 rows × 82 columns</p>\n",
       "</div>"
      ],
      "text/plain": [
       "   Order        PID  MS.SubClass MS.Zoning  Lot.Frontage  Lot.Area Street  \\\n",
       "0      1  526301100           20        RL         141.0     31770   Pave   \n",
       "1      2  526350040           20        RH          80.0     11622   Pave   \n",
       "2      3  526351010           20        RL          81.0     14267   Pave   \n",
       "3      4  526353030           20        RL          93.0     11160   Pave   \n",
       "4      5  527105010           60        RL          74.0     13830   Pave   \n",
       "\n",
       "  Alley Lot.Shape Land.Contour  ... Pool.Area Pool.QC  Fence Misc.Feature  \\\n",
       "0   NaN       IR1          Lvl  ...         0     NaN    NaN          NaN   \n",
       "1   NaN       Reg          Lvl  ...         0     NaN  MnPrv          NaN   \n",
       "2   NaN       IR1          Lvl  ...         0     NaN    NaN         Gar2   \n",
       "3   NaN       Reg          Lvl  ...         0     NaN    NaN          NaN   \n",
       "4   NaN       IR1          Lvl  ...         0     NaN  MnPrv          NaN   \n",
       "\n",
       "  Misc.Val Mo.Sold Yr.Sold Sale.Type  Sale.Condition  SalePrice  \n",
       "0        0       5    2010       WD           Normal     215000  \n",
       "1        0       6    2010       WD           Normal     105000  \n",
       "2    12500       6    2010       WD           Normal     172000  \n",
       "3        0       4    2010       WD           Normal     244000  \n",
       "4        0       3    2010       WD           Normal     189900  \n",
       "\n",
       "[5 rows x 82 columns]"
      ]
     },
     "execution_count": 66,
     "metadata": {},
     "output_type": "execute_result"
    }
   ],
   "source": [
    "# Reading data\n",
    "houses = pd.read_csv(\"https://remiller1450.github.io/data/AmesHousing.csv\")\n",
    "houses.head(5)"
   ]
  },
  {
   "cell_type": "code",
   "execution_count": 67,
   "id": "9c5bd2a6",
   "metadata": {},
   "outputs": [
    {
     "name": "stdout",
     "output_type": "stream",
     "text": [
      "<class 'pandas.core.frame.DataFrame'>\n",
      "RangeIndex: 2930 entries, 0 to 2929\n",
      "Data columns (total 39 columns):\n",
      " #   Column           Non-Null Count  Dtype  \n",
      "---  ------           --------------  -----  \n",
      " 0   Order            2930 non-null   int64  \n",
      " 1   PID              2930 non-null   int64  \n",
      " 2   MS.SubClass      2930 non-null   int64  \n",
      " 3   Lot.Frontage     2440 non-null   float64\n",
      " 4   Lot.Area         2930 non-null   int64  \n",
      " 5   Overall.Qual     2930 non-null   int64  \n",
      " 6   Overall.Cond     2930 non-null   int64  \n",
      " 7   Year.Built       2930 non-null   int64  \n",
      " 8   Year.Remod.Add   2930 non-null   int64  \n",
      " 9   Mas.Vnr.Area     2907 non-null   float64\n",
      " 10  BsmtFin.SF.1     2929 non-null   float64\n",
      " 11  BsmtFin.SF.2     2929 non-null   float64\n",
      " 12  Bsmt.Unf.SF      2929 non-null   float64\n",
      " 13  Total.Bsmt.SF    2929 non-null   float64\n",
      " 14  X1st.Flr.SF      2930 non-null   int64  \n",
      " 15  X2nd.Flr.SF      2930 non-null   int64  \n",
      " 16  Low.Qual.Fin.SF  2930 non-null   int64  \n",
      " 17  Gr.Liv.Area      2930 non-null   int64  \n",
      " 18  Bsmt.Full.Bath   2928 non-null   float64\n",
      " 19  Bsmt.Half.Bath   2928 non-null   float64\n",
      " 20  Full.Bath        2930 non-null   int64  \n",
      " 21  Half.Bath        2930 non-null   int64  \n",
      " 22  Bedroom.AbvGr    2930 non-null   int64  \n",
      " 23  Kitchen.AbvGr    2930 non-null   int64  \n",
      " 24  TotRms.AbvGrd    2930 non-null   int64  \n",
      " 25  Fireplaces       2930 non-null   int64  \n",
      " 26  Garage.Yr.Blt    2771 non-null   float64\n",
      " 27  Garage.Cars      2929 non-null   float64\n",
      " 28  Garage.Area      2929 non-null   float64\n",
      " 29  Wood.Deck.SF     2930 non-null   int64  \n",
      " 30  Open.Porch.SF    2930 non-null   int64  \n",
      " 31  Enclosed.Porch   2930 non-null   int64  \n",
      " 32  X3Ssn.Porch      2930 non-null   int64  \n",
      " 33  Screen.Porch     2930 non-null   int64  \n",
      " 34  Pool.Area        2930 non-null   int64  \n",
      " 35  Misc.Val         2930 non-null   int64  \n",
      " 36  Mo.Sold          2930 non-null   int64  \n",
      " 37  Yr.Sold          2930 non-null   int64  \n",
      " 38  SalePrice        2930 non-null   int64  \n",
      "dtypes: float64(11), int64(28)\n",
      "memory usage: 892.9 KB\n"
     ]
    }
   ],
   "source": [
    "houses_filter = houses.select_dtypes(exclude=['object'])\n",
    "houses_filter.info()"
   ]
  },
  {
   "cell_type": "code",
   "execution_count": 68,
   "id": "cd422d39",
   "metadata": {},
   "outputs": [
    {
     "name": "stdout",
     "output_type": "stream",
     "text": [
      "Lot.Area         0\n",
      "Overall.Qual     0\n",
      "Total.Bsmt.SF    1\n",
      "Bedroom.AbvGr    0\n",
      "TotRms.AbvGrd    0\n",
      "Garage.Area      1\n",
      "Gr.Liv.Area      0\n",
      "SalePrice        0\n",
      "dtype: int64\n"
     ]
    },
    {
     "data": {
      "text/html": [
       "<div>\n",
       "<style scoped>\n",
       "    .dataframe tbody tr th:only-of-type {\n",
       "        vertical-align: middle;\n",
       "    }\n",
       "\n",
       "    .dataframe tbody tr th {\n",
       "        vertical-align: top;\n",
       "    }\n",
       "\n",
       "    .dataframe thead th {\n",
       "        text-align: right;\n",
       "    }\n",
       "</style>\n",
       "<table border=\"1\" class=\"dataframe\">\n",
       "  <thead>\n",
       "    <tr style=\"text-align: right;\">\n",
       "      <th></th>\n",
       "      <th>Lot.Area</th>\n",
       "      <th>Overall.Qual</th>\n",
       "      <th>Total.Bsmt.SF</th>\n",
       "      <th>Bedroom.AbvGr</th>\n",
       "      <th>TotRms.AbvGrd</th>\n",
       "      <th>Garage.Area</th>\n",
       "      <th>Gr.Liv.Area</th>\n",
       "      <th>SalePrice</th>\n",
       "    </tr>\n",
       "  </thead>\n",
       "  <tbody>\n",
       "    <tr>\n",
       "      <th>0</th>\n",
       "      <td>31770</td>\n",
       "      <td>6</td>\n",
       "      <td>1080.0</td>\n",
       "      <td>3</td>\n",
       "      <td>7</td>\n",
       "      <td>528.0</td>\n",
       "      <td>1656</td>\n",
       "      <td>215000</td>\n",
       "    </tr>\n",
       "    <tr>\n",
       "      <th>1</th>\n",
       "      <td>11622</td>\n",
       "      <td>5</td>\n",
       "      <td>882.0</td>\n",
       "      <td>2</td>\n",
       "      <td>5</td>\n",
       "      <td>730.0</td>\n",
       "      <td>896</td>\n",
       "      <td>105000</td>\n",
       "    </tr>\n",
       "    <tr>\n",
       "      <th>2</th>\n",
       "      <td>14267</td>\n",
       "      <td>6</td>\n",
       "      <td>1329.0</td>\n",
       "      <td>3</td>\n",
       "      <td>6</td>\n",
       "      <td>312.0</td>\n",
       "      <td>1329</td>\n",
       "      <td>172000</td>\n",
       "    </tr>\n",
       "    <tr>\n",
       "      <th>3</th>\n",
       "      <td>11160</td>\n",
       "      <td>7</td>\n",
       "      <td>2110.0</td>\n",
       "      <td>3</td>\n",
       "      <td>8</td>\n",
       "      <td>522.0</td>\n",
       "      <td>2110</td>\n",
       "      <td>244000</td>\n",
       "    </tr>\n",
       "    <tr>\n",
       "      <th>4</th>\n",
       "      <td>13830</td>\n",
       "      <td>5</td>\n",
       "      <td>928.0</td>\n",
       "      <td>3</td>\n",
       "      <td>6</td>\n",
       "      <td>482.0</td>\n",
       "      <td>1629</td>\n",
       "      <td>189900</td>\n",
       "    </tr>\n",
       "  </tbody>\n",
       "</table>\n",
       "</div>"
      ],
      "text/plain": [
       "   Lot.Area  Overall.Qual  Total.Bsmt.SF  Bedroom.AbvGr  TotRms.AbvGrd  \\\n",
       "0     31770             6         1080.0              3              7   \n",
       "1     11622             5          882.0              2              5   \n",
       "2     14267             6         1329.0              3              6   \n",
       "3     11160             7         2110.0              3              8   \n",
       "4     13830             5          928.0              3              6   \n",
       "\n",
       "   Garage.Area  Gr.Liv.Area  SalePrice  \n",
       "0        528.0         1656     215000  \n",
       "1        730.0          896     105000  \n",
       "2        312.0         1329     172000  \n",
       "3        522.0         2110     244000  \n",
       "4        482.0         1629     189900  "
      ]
     },
     "execution_count": 68,
     "metadata": {},
     "output_type": "execute_result"
    }
   ],
   "source": [
    "houses_df = houses_filter[['Lot.Area', 'Overall.Qual', 'Total.Bsmt.SF', 'Bedroom.AbvGr', 'TotRms.AbvGrd','Garage.Area', 'Gr.Liv.Area', 'SalePrice']]\n",
    "print(houses_df.isna().sum())\n",
    "houses_df.head()"
   ]
  },
  {
   "cell_type": "code",
   "execution_count": 69,
   "id": "36a1dee9",
   "metadata": {},
   "outputs": [],
   "source": [
    "from sklearn.svm import SVR\n",
    "from sklearn.compose import ColumnTransformer\n",
    "from sklearn.impute import KNNImputer, SimpleImputer\n",
    "from sklearn.neighbors import KNeighborsRegressor\n",
    "\n",
    "warnings. filterwarnings('ignore')\n",
    "# Separate continuous and categorical variables\n",
    "continuous_cols = ['Lot.Area', 'Overall.Qual', 'Total.Bsmt.SF', 'Bedroom.AbvGr', 'TotRms.AbvGrd','Garage.Area', 'Gr.Liv.Area']\n",
    "\n",
    "# Splitting data\n",
    "train_h, test_h = train_test_split(houses_df, test_size=0.2, random_state=7)\n",
    "\n",
    "train_y_h = train_h['SalePrice']\n",
    "train_X_h= train_h.drop('SalePrice',axis=1)\n",
    "test_y_h = train_h['SalePrice']\n",
    "test_X_h= train_h.drop('SalePrice',axis=1)\n"
   ]
  },
  {
   "cell_type": "code",
   "execution_count": 70,
   "id": "13ec8cba",
   "metadata": {},
   "outputs": [
    {
     "name": "stdout",
     "output_type": "stream",
     "text": [
      "Fitting 5 folds for each of 108 candidates, totalling 540 fits\n",
      "Pipeline(steps=[('preprocessor',\n",
      "                 ColumnTransformer(sparse_threshold=0,\n",
      "                                   transformers=[('num',\n",
      "                                                  Pipeline(steps=[('imputer',\n",
      "                                                                   SimpleImputer()),\n",
      "                                                                  ('scaler',\n",
      "                                                                   StandardScaler())]),\n",
      "                                                  ['Lot.Area', 'Overall.Qual',\n",
      "                                                   'Total.Bsmt.SF',\n",
      "                                                   'Bedroom.AbvGr',\n",
      "                                                   'TotRms.AbvGrd',\n",
      "                                                   'Garage.Area',\n",
      "                                                   'Gr.Liv.Area'])])),\n",
      "                ('forest',\n",
      "                 RandomForestRegressor(max_depth=15, max_features=3,\n",
      "                                       min_samples_split=20, n_estimators=65,\n",
      "                                       random_state=30))])\n",
      "-31025.355045615077\n"
     ]
    }
   ],
   "source": [
    "from sklearn.ensemble import RandomForestRegressor\n",
    "# Create the transformer for continuous values \n",
    "numeric_transformer = Pipeline(steps=[\n",
    "    ('imputer', SimpleImputer(strategy='mean')),\n",
    "    ('scaler', StandardScaler())\n",
    "])\n",
    "\n",
    "# Creating preprocessor for categorical and numerical cols\n",
    "preprocessor = ColumnTransformer(\n",
    "    transformers=[\n",
    "        ('num', numeric_transformer, continuous_cols)\n",
    "    ],\n",
    "    sparse_threshold=0\n",
    ")\n",
    "\n",
    "pipeline_forest = Pipeline([\n",
    "    ('preprocessor', preprocessor),\n",
    "    ('forest', RandomForestRegressor(random_state=30))\n",
    "    \n",
    "])\n",
    "params_houses = {\n",
    "    'forest__max_depth': [7,10,12,15],  \n",
    "    'forest__min_samples_split': [20,25,35],\n",
    "    'forest__max_features': [2,3,4],\n",
    "    'forest__n_estimators': [50,60,65]\n",
    "}\n",
    "grid_houses = GridSearchCV(estimator=pipeline_forest, param_grid=params_houses, cv=5, scoring='neg_root_mean_squared_error', verbose=1).fit(train_X_h, train_y_h)\n",
    "print(grid_houses.best_estimator_)\n",
    "print(grid_houses.best_score_)"
   ]
  },
  {
   "cell_type": "code",
   "execution_count": 71,
   "id": "1de189b2",
   "metadata": {},
   "outputs": [
    {
     "name": "stdout",
     "output_type": "stream",
     "text": [
      "RMSE of the VotingRegressor ensemble on the test set: 23856.399256887977\n"
     ]
    }
   ],
   "source": [
    "# lower than 30,0000 RMSE \n",
    "from sklearn.ensemble import StackingRegressor\n",
    "from sklearn.tree import DecisionTreeRegressor\n",
    "from sklearn.model_selection import cross_val_score\n",
    "from sklearn.metrics import make_scorer, mean_squared_error\n",
    "from sklearn.ensemble import VotingRegressor\n",
    "\n",
    "stacked_r = StackingRegressor(estimators=[('voting', grid_houses.best_estimator_)], final_estimator=DecisionTreeRegressor(max_depth=3))\n",
    "best_random_forest = grid_houses.best_estimator_\n",
    "stacked_ensemble = stacked_r\n",
    "\n",
    "ensemble_voting = VotingRegressor(estimators=[\n",
    "    ('random_forest', best_random_forest),\n",
    "    ('stacked', stacked_ensemble)\n",
    "])\n",
    "ensemble_voting.fit(train_X_h, train_y_h)\n",
    "ensemble_predictions = ensemble_voting.predict(test_X_h)\n",
    "ensemble_rmse = np.sqrt(mean_squared_error(test_y_h, ensemble_predictions))\n",
    "print(f'RMSE of the VotingRegressor ensemble on the test set: {ensemble_rmse}')"
   ]
  },
  {
   "cell_type": "markdown",
   "id": "852e1f15",
   "metadata": {},
   "source": [
    "### Methods"
   ]
  },
  {
   "cell_type": "markdown",
   "id": "f6ad6c29",
   "metadata": {},
   "source": [
    "First, the head of the data is displayed along with its information and names of all columns. After analyzing the features, I decided to choose the columns that better represented a house's values, which were: \n",
    "`'Lot.Area'`, `'Overall.Qual'`, `'Total.Bsmt.SF'`, `'Bedroom.AbvGr'`, `'TotRms.AbvGrd'`,`'Garage.Area'`, `'Gr.Liv.Area'`. Most of them are related with the area of the lot or parts of the house.\n",
    "\n",
    "A new dataset is created with the data. Because all of the features are numeric, One Hot encoding was not used.\n",
    "\n",
    "The predictive model I used was a RandomForestRegressor with a previous Standard Scaler. After getting the best estimator through a cross-validated grid search, I inputted the best model into a VotingRegressor with a DecisionTreeRegressor as the final estimator.\n",
    "This model yielded a RMSE of $23856.39$ on the test set."
   ]
  }
 ],
 "metadata": {
  "kernelspec": {
   "display_name": "Python 3 (ipykernel)",
   "language": "python",
   "name": "python3"
  },
  "language_info": {
   "codemirror_mode": {
    "name": "ipython",
    "version": 3
   },
   "file_extension": ".py",
   "mimetype": "text/x-python",
   "name": "python",
   "nbconvert_exporter": "python",
   "pygments_lexer": "ipython3",
   "version": "3.11.7"
  }
 },
 "nbformat": 4,
 "nbformat_minor": 5
}
